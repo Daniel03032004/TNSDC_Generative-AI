{
  "nbformat": 4,
  "nbformat_minor": 0,
  "metadata": {
    "colab": {
      "provenance": []
    },
    "kernelspec": {
      "name": "python3",
      "display_name": "Python 3"
    },
    "language_info": {
      "name": "python"
    }
  },
  "cells": [
    {
      "cell_type": "code",
      "source": [
        "import numpy as np\n",
        "import pandas as pd\n",
        "\n",
        "# Generate synthetic data for demonstration\n",
        "num_samples = 10000\n",
        "num_features = 20\n",
        "\n",
        "# Generate random features (assume each feature represents a pixel intensity in an image)\n",
        "features = np.random.rand(num_samples, num_features)\n",
        "\n",
        "# Generate synthetic labels (0 or 1 representing not clicked and clicked)\n",
        "labels = np.random.randint(2, size=num_samples)\n",
        "\n",
        "# Create a DataFrame to store the dataset\n",
        "data = pd.DataFrame(features, columns=[f'feature_{i}' for i in range(num_features)])\n",
        "data['clicked'] = labels\n",
        "\n",
        "# Save the dataset to a CSV file\n",
        "data.to_csv('your_dataset.csv', index=False)\n",
        "\n",
        "print(\"Dataset saved successfully.\")\n"
      ],
      "metadata": {
        "colab": {
          "base_uri": "https://localhost:8080/"
        },
        "id": "_EEpUqHcQ4nS",
        "outputId": "a9706322-fe3f-426d-8445-0397fee03f44"
      },
      "execution_count": 7,
      "outputs": [
        {
          "output_type": "stream",
          "name": "stdout",
          "text": [
            "Dataset saved successfully.\n"
          ]
        }
      ]
    },
    {
      "cell_type": "code",
      "source": [
        "import numpy as np\n",
        "import pandas as pd\n",
        "from sklearn.model_selection import train_test_split\n",
        "from sklearn.preprocessing import StandardScaler\n",
        "from tensorflow.keras.models import Sequential\n",
        "from tensorflow.keras.layers import Conv1D, MaxPooling1D, Flatten, Dense\n",
        "\n",
        "# Load your dataset into a DataFrame (replace 'your_dataset.csv' with your actual dataset)\n",
        "data = pd.read_csv('your_dataset.csv')\n",
        "\n",
        "# Preprocess the data\n",
        "X = data.drop('clicked', axis=1).values  # Features\n",
        "y = data['clicked'].values  # Labels\n",
        "\n",
        "# Split the data into training and testing sets\n",
        "X_train, X_test, y_train, y_test = train_test_split(X, y, test_size=0.2, random_state=42)\n",
        "\n",
        "# Scale the features\n",
        "scaler = StandardScaler()\n",
        "X_train = scaler.fit_transform(X_train)\n",
        "X_test = scaler.transform(X_test)\n",
        "\n",
        "# Reshape the data for CNN input (assuming your features represent sequential data)\n",
        "X_train = X_train.reshape(X_train.shape[0], X_train.shape[1], 1)\n",
        "X_test = X_test.reshape(X_test.shape[0], X_test.shape[1], 1)\n",
        "\n",
        "# Define the CNN model\n",
        "model = Sequential()\n",
        "model.add(Conv1D(filters=32, kernel_size=3, activation='relu', input_shape=(X_train.shape[1], 1)))\n",
        "model.add(MaxPooling1D(pool_size=2))\n",
        "model.add(Flatten())\n",
        "model.add(Dense(50, activation='relu'))\n",
        "model.add(Dense(1, activation='sigmoid'))\n",
        "\n",
        "# Compile the model\n",
        "model.compile(optimizer='adam', loss='binary_crossentropy', metrics=['accuracy'])\n",
        "\n",
        "# Train the model\n",
        "model.fit(X_train, y_train, epochs=10, batch_size=32, validation_data=(X_test, y_test))\n",
        "\n",
        "# Evaluate the model\n",
        "loss, accuracy = model.evaluate(X_test, y_test)\n",
        "print(\"Test Accuracy:\", accuracy)\n"
      ],
      "metadata": {
        "colab": {
          "base_uri": "https://localhost:8080/"
        },
        "id": "3s8qR4PmQ7be",
        "outputId": "acaec1c3-b914-4e61-ea6d-68ac53c0638f"
      },
      "execution_count": 8,
      "outputs": [
        {
          "output_type": "stream",
          "name": "stdout",
          "text": [
            "Epoch 1/10\n",
            "250/250 [==============================] - 6s 7ms/step - loss: 0.6998 - accuracy: 0.4975 - val_loss: 0.7001 - val_accuracy: 0.4870\n",
            "Epoch 2/10\n",
            "250/250 [==============================] - 1s 6ms/step - loss: 0.6927 - accuracy: 0.5225 - val_loss: 0.6965 - val_accuracy: 0.5030\n",
            "Epoch 3/10\n",
            "250/250 [==============================] - 2s 8ms/step - loss: 0.6918 - accuracy: 0.5240 - val_loss: 0.6975 - val_accuracy: 0.5025\n",
            "Epoch 4/10\n",
            "250/250 [==============================] - 2s 7ms/step - loss: 0.6894 - accuracy: 0.5341 - val_loss: 0.6975 - val_accuracy: 0.4760\n",
            "Epoch 5/10\n",
            "250/250 [==============================] - 1s 4ms/step - loss: 0.6867 - accuracy: 0.5512 - val_loss: 0.6972 - val_accuracy: 0.4915\n",
            "Epoch 6/10\n",
            "250/250 [==============================] - 1s 3ms/step - loss: 0.6846 - accuracy: 0.5556 - val_loss: 0.6977 - val_accuracy: 0.4825\n",
            "Epoch 7/10\n",
            "250/250 [==============================] - 1s 4ms/step - loss: 0.6815 - accuracy: 0.5589 - val_loss: 0.7000 - val_accuracy: 0.4885\n",
            "Epoch 8/10\n",
            "250/250 [==============================] - 1s 4ms/step - loss: 0.6778 - accuracy: 0.5739 - val_loss: 0.7094 - val_accuracy: 0.4850\n",
            "Epoch 9/10\n",
            "250/250 [==============================] - 1s 4ms/step - loss: 0.6744 - accuracy: 0.5739 - val_loss: 0.7068 - val_accuracy: 0.4890\n",
            "Epoch 10/10\n",
            "250/250 [==============================] - 1s 3ms/step - loss: 0.6692 - accuracy: 0.5915 - val_loss: 0.7118 - val_accuracy: 0.4905\n",
            "63/63 [==============================] - 0s 2ms/step - loss: 0.7118 - accuracy: 0.4905\n",
            "Test Accuracy: 0.49050000309944153\n"
          ]
        }
      ]
    }
  ]
}